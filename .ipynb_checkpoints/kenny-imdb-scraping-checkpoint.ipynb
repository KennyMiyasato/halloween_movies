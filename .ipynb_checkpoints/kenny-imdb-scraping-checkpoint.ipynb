{
 "cells": [
  {
   "cell_type": "markdown",
   "metadata": {},
   "source": [
    "# IMDB Site Scraping"
   ]
  },
  {
   "cell_type": "code",
   "execution_count": 3,
   "metadata": {},
   "outputs": [],
   "source": [
    "########################\n",
    "# Test Single Scraping #\n",
    "########################\n",
    "\n",
    "import requests\n",
    "from bs4 import BeautifulSoup\n",
    "import re\n",
    "import csv\n",
    "from datetime import datetime\n",
    "\n",
    "page = requests.get(\"https://www.imdb.com/title/tt0107120/\")\n",
    "soup1 = BeautifulSoup(page.content, 'html.parser')\n",
    "\n",
    "# csv_file = open('imdb_scrape.csv', 'w', newline='')\n",
    "# csv_writer = csv.writer(csv_file)\n",
    "# csv_writer.writerow(['primary_key', 'movie_name', 'year', 'movie_mpaa_rating', 'regexd_year'])\n",
    "\n",
    "# imdb_list_of_movies = soup1.find_all('div', class_='lister-item mode-detail')\n",
    "\n",
    "# for imdb_list_of_movie in imdb_list_of_movies:\n",
    "#     imdb_primary_key_selector = imdb_list_of_movie.find('h3', class_='lister-item-header').a['href']\n",
    "#     imdb_primary_key = imdb_primary_key_selector.split('/')[2]\n",
    "#     print(f'PrimaryKey: {imdb_primary_key}')\n",
    "    \n",
    "#     movie_title = imdb_list_of_movie.find('div', class_='lister-item-content').h3.a.text\n",
    "#     print(f'Movie Name: {movie_title}')\n",
    "\n",
    "#     movie_year = imdb_list_of_movie.find('span', class_='lister-item-year').text\n",
    "#     print(f'Year: {movie_year}')\n",
    "    \n",
    "#     regexd_year = re.split(\"\\W\", movie_year)[1]\n",
    "#     print(f\"Regex'd Year: {regexd_year}\")\n",
    "    \n",
    "#     # Try/Except when no mpaa rating exists\n",
    "#     try:\n",
    "#         movie_mpaa_rating = imdb_list_of_movie.find('span', class_='certificate').text\n",
    "\n",
    "#     except Exception as e:\n",
    "#         movie_mpaa_rating = None\n",
    "#     print(f'Rating: {movie_mpaa_rating}')\n",
    "    \n",
    "#     print()\n",
    "    \n",
    "#     csv_writer.writerow([imdb_primary_key, movie_title, movie_year, movie_mpaa_rating, regexd_year])\n",
    "\n",
    "# csv_file.close()\n"
   ]
  },
  {
   "cell_type": "code",
   "execution_count": 55,
   "metadata": {},
   "outputs": [
    {
     "name": "stdout",
     "output_type": "stream",
     "text": [
      "Movie Box Office Domestic Gross: $39,514,713\n"
     ]
    }
   ],
   "source": [
    "# [x] title\n",
    "# [x] realease year\n",
    "# [x] imdb rating\n",
    "# [x] imdb user rating count\n",
    "# [x] review count\n",
    "# [x] rating PG/PG-13/R\n",
    "# [ ] runtime IN MINUTES\n",
    "# [ ] genres\n",
    "# [x] release day month year\n",
    "# [x] box office gross USA\n",
    "# [ ] box office gross worldwide\n",
    "\n",
    "# imdb_movie_details = soup1.find('div', class_='heroic-overview')\n",
    "# imdb_movie_details\n",
    "\n",
    "# imdb_movie_details_bottom = soup1.find('div', {'id': 'titleDetails'})\n",
    "# print(imdb_movie_details_bottom.prettify())\n",
    "\n",
    "\n",
    "# movie_title = imdb_movie_details.find('h1').text\n",
    "# # movie_title = \"E.T,The Extra-Terrestrial (1993)\"\n",
    "# regexd_movie_title_search = re.search(\"([a-z,\\- '.\\d])+\", movie_title, flags=re.I)\n",
    "# regexd_movie_title = regexd_movie_title_search.group(0)\n",
    "# print(f'Movie Name: {regexd_movie_title}')\n",
    "\n",
    "# movie_year = imdb_movie_details.find('h1').text\n",
    "# movie_year = \"E.T,The Extra-Terrestrial (1993)\"\n",
    "# regexd_movie_year_search = re.search(\"\\d{4}\", movie_year)\n",
    "# regexd_movie_year = regexd_movie_year_search.group(0)\n",
    "# print(f'Movie Year: {regexd_movie_year}')\n",
    "\n",
    "# movie_rating = imdb_movie_details.find('div', class_='ratingValue').span.text\n",
    "# print(f'Movie Rating: {movie_rating}')\n",
    "\n",
    "# movie_user_rating_count = imdb_movie_details.find('div', class_='imdbRating').a.text\n",
    "# print(f'Movie User Rating Count: {movie_user_rating_count}')\n",
    "\n",
    "# movie_user_review_count = imdb_movie_details.find('div', class_='titleReviewBar').span.text\n",
    "# regexd_movie_user_review_count_search = re.search(\"^\\d+ user\", movie_user_review_count, flags=re.M)\n",
    "# regexd_movie_user_review_count = regexd_movie_user_review_count_search.group(0)\n",
    "# print(f'Movie User Review Count: {regexd_movie_user_review_count}')\n",
    "\n",
    "# movie_critic_review_count = imdb_movie_details.find('div', class_='titleReviewBar').span.text\n",
    "# regexd_movie_critic_review_count_search = re.search(\"^\\d+ critic\", movie_critic_review_count, flags=re.M)\n",
    "# regexd_movie_critic_review_count = regexd_movie_critic_review_count_search.group(0)\n",
    "# print(f'Movie Critic Review Count: {regexd_movie_critic_review_count}')\n",
    "\n",
    "# movie_mpaa_rating = imdb_movie_details.find('div', class_='subtext').text\n",
    "# regexd_movie_mpaa_rating_search = re.search(\"([^\\\\n\\s][A-Z]+)\", movie_mpaa_rating)\n",
    "# regexd_movie_mpaa_rating = regexd_movie_mpaa_rating_search.group(0)\n",
    "# print(f'Movie MPAA Rating: {regexd_movie_mpaa_rating}')\n",
    "\n",
    "# movie_release_date = imdb_movie_details.find('div', class_='subtext').text\n",
    "# movie_release_date\n",
    "# regexd_movie_release_date_search = re.search(\"(\\d{2}\\s\\w{2,}\\s\\d{4})+\", movie_release_date, flags=re.I)\n",
    "# regexd_movie_release_date = regexd_movie_release_date_search.group(0)\n",
    "# print(f'Movie Release Date: {regexd_movie_release_date}')\n",
    "\n",
    "movie_box_office_gross = imdb_movie_details_bottom.select_one('div:nth-child(14)').text.strip()\n",
    "regexd_box_office_gross_search = re.search(\"\\d.[^']+\", movie_box_office_gross)\n",
    "regexd_box_office_gross = regexd_box_office_gross_search.group(0)\n",
    "print(f'Movie Box Office Domestic Gross: ${regexd_box_office_gross}')\n",
    "\n",
    "\n",
    "##################\n",
    "# imdb_movie_runtime = imdb_movie_details_bottom.find('time').text.strip()\n",
    "# imdb_movie_runtime\n",
    "# imdb_movie_runtime_object = datetime.strptime(imdb_movie_runtime, '%M').time\n",
    "# imdb_movie_runtime_object"
   ]
  },
  {
   "cell_type": "code",
   "execution_count": null,
   "metadata": {},
   "outputs": [],
   "source": []
  },
  {
   "cell_type": "code",
   "execution_count": null,
   "metadata": {},
   "outputs": [],
   "source": []
  },
  {
   "cell_type": "code",
   "execution_count": null,
   "metadata": {},
   "outputs": [],
   "source": []
  },
  {
   "cell_type": "code",
   "execution_count": null,
   "metadata": {},
   "outputs": [],
   "source": []
  },
  {
   "cell_type": "code",
   "execution_count": null,
   "metadata": {},
   "outputs": [],
   "source": []
  },
  {
   "cell_type": "code",
   "execution_count": null,
   "metadata": {},
   "outputs": [],
   "source": []
  },
  {
   "cell_type": "code",
   "execution_count": null,
   "metadata": {},
   "outputs": [],
   "source": []
  }
 ],
 "metadata": {
  "kernelspec": {
   "display_name": "Python 3",
   "language": "python",
   "name": "python3"
  },
  "language_info": {
   "codemirror_mode": {
    "name": "ipython",
    "version": 3
   },
   "file_extension": ".py",
   "mimetype": "text/x-python",
   "name": "python",
   "nbconvert_exporter": "python",
   "pygments_lexer": "ipython3",
   "version": "3.7.3"
  }
 },
 "nbformat": 4,
 "nbformat_minor": 2
}
